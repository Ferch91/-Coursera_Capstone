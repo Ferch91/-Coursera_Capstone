{
  "nbformat": 4,
  "nbformat_minor": 0,
  "metadata": {
    "colab": {
      "name": "Coursera_Capstone_Final Project_BoN.ipynb",
      "provenance": [],
      "collapsed_sections": [],
      "authorship_tag": "ABX9TyProvP7k019h5fKRiOLv05R"
    },
    "kernelspec": {
      "name": "python3",
      "display_name": "Python 3"
    }
  },
  "cells": [
    {
      "cell_type": "markdown",
      "metadata": {
        "id": "juxwuAigsAZd"
      },
      "source": [
        "# The Battle of Neighborhoods"
      ]
    },
    {
      "cell_type": "markdown",
      "metadata": {
        "id": "aBISFJA6PVHD"
      },
      "source": [
        "First import the necesary libraries"
      ]
    },
    {
      "cell_type": "code",
      "metadata": {
        "id": "-cl4ugbjqyq3"
      },
      "source": [
        "import pandas as pd\n",
        "import numpy as np\n",
        "import json # library to handle JSON files\n",
        "\n",
        "from geopy.geocoders import Nominatim # convert an address into latitude and longitude values\n",
        "\n",
        "import requests\n",
        "from pandas.io.json import json_normalize # tranform JSON file into a pandas dataframe\n",
        "\n",
        "# Matplotlib and associated plotting modules\n",
        "import matplotlib.cm as cm\n",
        "import matplotlib.colors as colors\n",
        "import matplotlib.pyplot as plt\n",
        "\n",
        "# import k-means from clustering stage\n",
        "from sklearn.cluster import KMeans\n",
        "import folium # map rendering library\n",
        "\n",
        "from bs4 import BeautifulSoup as bs\n",
        "\n",
        "\n"
      ],
      "execution_count": 182,
      "outputs": []
    },
    {
      "cell_type": "markdown",
      "metadata": {
        "id": "kQrKDyYtPYcj"
      },
      "source": [
        "Mount google drive in colab "
      ]
    },
    {
      "cell_type": "code",
      "metadata": {
        "colab": {
          "base_uri": "https://localhost:8080/"
        },
        "id": "pkHovOFqYQ4-",
        "outputId": "2a4f775f-7169-40cf-d147-1f84d382f1c8"
      },
      "source": [
        "# Cargar google drive en google Colab\n",
        "from google.colab import drive\n",
        "\n",
        "# Montar carpeta de google Drive\n",
        "drive.mount('/content/drive', force_remount=True)"
      ],
      "execution_count": 4,
      "outputs": [
        {
          "output_type": "stream",
          "text": [
            "Mounted at /content/drive\n"
          ],
          "name": "stdout"
        }
      ]
    },
    {
      "cell_type": "markdown",
      "metadata": {
        "id": "yQVGBj9-0obe"
      },
      "source": [
        "Get the dataset of worldcities "
      ]
    },
    {
      "cell_type": "code",
      "metadata": {
        "id": "v-zFtproq-N9"
      },
      "source": [
        "data_world = pd.read_csv('/content/drive/My Drive/Coursera Capstone/worldcities.csv')"
      ],
      "execution_count": 5,
      "outputs": []
    },
    {
      "cell_type": "code",
      "metadata": {
        "colab": {
          "base_uri": "https://localhost:8080/",
          "height": 204
        },
        "id": "LD5yP1YxZCT5",
        "outputId": "388c3e93-8072-4c28-f1ce-e6c543fd3a48"
      },
      "source": [
        "data_ec = data_world[data_world['country']=='Ecuador']\n",
        "data_ec = data_ec[['city','lat','lng','admin_name','population']]\n",
        "data_ec = data_ec.reset_index(drop=True)\n",
        "\n",
        "\n",
        "data_ec.head()\n"
      ],
      "execution_count": 6,
      "outputs": [
        {
          "output_type": "execute_result",
          "data": {
            "text/html": [
              "<div>\n",
              "<style scoped>\n",
              "    .dataframe tbody tr th:only-of-type {\n",
              "        vertical-align: middle;\n",
              "    }\n",
              "\n",
              "    .dataframe tbody tr th {\n",
              "        vertical-align: top;\n",
              "    }\n",
              "\n",
              "    .dataframe thead th {\n",
              "        text-align: right;\n",
              "    }\n",
              "</style>\n",
              "<table border=\"1\" class=\"dataframe\">\n",
              "  <thead>\n",
              "    <tr style=\"text-align: right;\">\n",
              "      <th></th>\n",
              "      <th>city</th>\n",
              "      <th>lat</th>\n",
              "      <th>lng</th>\n",
              "      <th>admin_name</th>\n",
              "      <th>population</th>\n",
              "    </tr>\n",
              "  </thead>\n",
              "  <tbody>\n",
              "    <tr>\n",
              "      <th>0</th>\n",
              "      <td>Guayaquil</td>\n",
              "      <td>-2.1833</td>\n",
              "      <td>-79.8833</td>\n",
              "      <td>Guayas</td>\n",
              "      <td>2723665.0</td>\n",
              "    </tr>\n",
              "    <tr>\n",
              "      <th>1</th>\n",
              "      <td>Quito</td>\n",
              "      <td>-0.2186</td>\n",
              "      <td>-78.5097</td>\n",
              "      <td>Pichincha</td>\n",
              "      <td>2011388.0</td>\n",
              "    </tr>\n",
              "    <tr>\n",
              "      <th>2</th>\n",
              "      <td>Cuenca</td>\n",
              "      <td>-2.8974</td>\n",
              "      <td>-79.0045</td>\n",
              "      <td>Azuay</td>\n",
              "      <td>329928.0</td>\n",
              "    </tr>\n",
              "    <tr>\n",
              "      <th>3</th>\n",
              "      <td>Santo Domingo de los Colorados</td>\n",
              "      <td>-0.2542</td>\n",
              "      <td>-79.1719</td>\n",
              "      <td>Santo Domingo de los Tsáchilas</td>\n",
              "      <td>270875.0</td>\n",
              "    </tr>\n",
              "    <tr>\n",
              "      <th>4</th>\n",
              "      <td>Machala</td>\n",
              "      <td>-3.2667</td>\n",
              "      <td>-79.9667</td>\n",
              "      <td>El Oro</td>\n",
              "      <td>231260.0</td>\n",
              "    </tr>\n",
              "  </tbody>\n",
              "</table>\n",
              "</div>"
            ],
            "text/plain": [
              "                             city  ...  population\n",
              "0                       Guayaquil  ...   2723665.0\n",
              "1                           Quito  ...   2011388.0\n",
              "2                          Cuenca  ...    329928.0\n",
              "3  Santo Domingo de los Colorados  ...    270875.0\n",
              "4                         Machala  ...    231260.0\n",
              "\n",
              "[5 rows x 5 columns]"
            ]
          },
          "metadata": {
            "tags": []
          },
          "execution_count": 6
        }
      ]
    },
    {
      "cell_type": "markdown",
      "metadata": {
        "id": "6_RlA0W-08xH"
      },
      "source": [
        "Starting from the worldcities database, we extract information related to the country Ecuador and the city Cuenca. For that, firts we define the credentials to access foursquare."
      ]
    },
    {
      "cell_type": "code",
      "metadata": {
        "colab": {
          "base_uri": "https://localhost:8080/"
        },
        "id": "98OocKbIdZT6",
        "outputId": "2e4b598f-108a-4657-f45a-14cbe4a0fa10"
      },
      "source": [
        "CLIENT_ID = 'E1YG3M5G2TX0ONYDZ3VBNRUMPGI20CKUTMC3QZOSPLXTULSV' # your Foursquare ID\n",
        "CLIENT_SECRET = 'IHWKU3NRKWCQE2O0H5D5MJQ3PXUCAGPZHMBBMSMPTMYFGVVZ' # your Foursquare Secret\n",
        "ACCESS_TOKEN = 'RFHNT0PBSHKWPS1UJCKUFFCWMMPNHKOGOHPNR1TKURPX3H4H' # your FourSquare Access Token\n",
        "VERSION = '20180604'\n",
        "LIMIT = 30\n",
        "print('Your credentails:')\n",
        "print('CLIENT_ID: ' + CLIENT_ID)\n",
        "print('CLIENT_SECRET:' + CLIENT_SECRET)"
      ],
      "execution_count": 7,
      "outputs": [
        {
          "output_type": "stream",
          "text": [
            "Your credentails:\n",
            "CLIENT_ID: E1YG3M5G2TX0ONYDZ3VBNRUMPGI20CKUTMC3QZOSPLXTULSV\n",
            "CLIENT_SECRET:IHWKU3NRKWCQE2O0H5D5MJQ3PXUCAGPZHMBBMSMPTMYFGVVZ\n"
          ],
          "name": "stdout"
        }
      ]
    },
    {
      "cell_type": "markdown",
      "metadata": {
        "id": "vWwuCZPng0Vb"
      },
      "source": [
        "The define a function to extract the information automatically"
      ]
    },
    {
      "cell_type": "code",
      "metadata": {
        "id": "J8wVXtZBdx6d"
      },
      "source": [
        "def get_nearby_bussiness(names, latitudes, longitudes, radius): \n",
        "    bussiness_list=[]\n",
        "    for name, lat, lng in zip(names, latitudes, longitudes):\n",
        "        # create the API request URL\n",
        "        url = 'https://api.foursquare.com/v2/venues/explore?&client_id={}&client_secret={}&v={}&ll={},{}&radius={}&limit={}'.format(\n",
        "            CLIENT_ID, \n",
        "            CLIENT_SECRET, \n",
        "            VERSION, \n",
        "            lat, \n",
        "            lng, \n",
        "            radius, \n",
        "            100)\n",
        "            \n",
        "        # make the GET request\n",
        "        results = requests.get(url).json()[\"response\"]['groups'][0]['items']\n",
        "        \n",
        "        # return only relevant information for each nerby bussiness\n",
        "        bussiness_list.append([(\n",
        "            name, \n",
        "            lat, \n",
        "            lng, \n",
        "            v['venue']['name'], \n",
        "            v['venue']['location']['lat'], \n",
        "            v['venue']['location']['lng'],  \n",
        "            v['venue']['categories'][0]['name']) for v in results])\n",
        "\n",
        "    nearby_venues = pd.DataFrame([item for bussiness_list in bussiness_list for item in bussiness_list])\n",
        "    nearby_venues.columns = ['City', \n",
        "                  'City Latitude', \n",
        "                  'City Longitude', \n",
        "                  'Bussiness', \n",
        "                  'Bussiness Latitude', \n",
        "                  'Bussiness Longitude', \n",
        "                  'Bussiness Category']\n",
        "    \n",
        "    print('Done')\n",
        "    return(nearby_venues)"
      ],
      "execution_count": 13,
      "outputs": []
    },
    {
      "cell_type": "markdown",
      "metadata": {
        "id": "o0IThI0hg6AO"
      },
      "source": [
        "Extract the information of the downtown bussiness. The downtown of Cuenca is defined aproximately in 500 meters around the central park. The latitud and logitud of the dataset of worldcities is from the central park of Cuenca. Therefore, we extract the information around 500 meters to this point. "
      ]
    },
    {
      "cell_type": "code",
      "metadata": {
        "colab": {
          "base_uri": "https://localhost:8080/"
        },
        "id": "wRUzq4bQfM-_",
        "outputId": "f1e75411-9003-410e-a575-8bd41de521e7"
      },
      "source": [
        "ec_data = get_nearby_bussiness(names=data_ec['city'],\n",
        "                                 latitudes=data_ec['lat'],\n",
        "                                 longitudes=data_ec['lng'],\n",
        "                                 radius= 500)"
      ],
      "execution_count": 14,
      "outputs": [
        {
          "output_type": "stream",
          "text": [
            "Done\n"
          ],
          "name": "stdout"
        }
      ]
    },
    {
      "cell_type": "markdown",
      "metadata": {
        "id": "IPJy3p783k2T"
      },
      "source": [
        "Check the new dataset, we can notice that there is other cities of Ecuador like Guayaquil, so, now we need to select only the information related to Cuenca."
      ]
    },
    {
      "cell_type": "code",
      "metadata": {
        "colab": {
          "base_uri": "https://localhost:8080/",
          "height": 204
        },
        "id": "aetIrZTv2_Uh",
        "outputId": "24e6f66e-31dd-4cc6-b475-1d61f5a77687"
      },
      "source": [
        "ec_data.head()"
      ],
      "execution_count": 15,
      "outputs": [
        {
          "output_type": "execute_result",
          "data": {
            "text/html": [
              "<div>\n",
              "<style scoped>\n",
              "    .dataframe tbody tr th:only-of-type {\n",
              "        vertical-align: middle;\n",
              "    }\n",
              "\n",
              "    .dataframe tbody tr th {\n",
              "        vertical-align: top;\n",
              "    }\n",
              "\n",
              "    .dataframe thead th {\n",
              "        text-align: right;\n",
              "    }\n",
              "</style>\n",
              "<table border=\"1\" class=\"dataframe\">\n",
              "  <thead>\n",
              "    <tr style=\"text-align: right;\">\n",
              "      <th></th>\n",
              "      <th>City</th>\n",
              "      <th>City Latitude</th>\n",
              "      <th>City Longitude</th>\n",
              "      <th>Bussiness</th>\n",
              "      <th>Bussiness Latitude</th>\n",
              "      <th>Bussiness Longitude</th>\n",
              "      <th>Bussiness Category</th>\n",
              "    </tr>\n",
              "  </thead>\n",
              "  <tbody>\n",
              "    <tr>\n",
              "      <th>0</th>\n",
              "      <td>Guayaquil</td>\n",
              "      <td>-2.1833</td>\n",
              "      <td>-79.8833</td>\n",
              "      <td>Marce's key shop</td>\n",
              "      <td>-2.184976</td>\n",
              "      <td>-79.883522</td>\n",
              "      <td>Locksmith</td>\n",
              "    </tr>\n",
              "    <tr>\n",
              "      <th>1</th>\n",
              "      <td>Guayaquil</td>\n",
              "      <td>-2.1833</td>\n",
              "      <td>-79.8833</td>\n",
              "      <td>Distribuidoras farmacéuticas</td>\n",
              "      <td>-2.186434</td>\n",
              "      <td>-79.883747</td>\n",
              "      <td>Pharmacy</td>\n",
              "    </tr>\n",
              "    <tr>\n",
              "      <th>2</th>\n",
              "      <td>Guayaquil</td>\n",
              "      <td>-2.1833</td>\n",
              "      <td>-79.8833</td>\n",
              "      <td>Picantería Valdano</td>\n",
              "      <td>-2.187464</td>\n",
              "      <td>-79.883214</td>\n",
              "      <td>Seafood Restaurant</td>\n",
              "    </tr>\n",
              "    <tr>\n",
              "      <th>3</th>\n",
              "      <td>Guayaquil</td>\n",
              "      <td>-2.1833</td>\n",
              "      <td>-79.8833</td>\n",
              "      <td>Cerro del Carmen</td>\n",
              "      <td>-2.182056</td>\n",
              "      <td>-79.883613</td>\n",
              "      <td>Monument / Landmark</td>\n",
              "    </tr>\n",
              "    <tr>\n",
              "      <th>4</th>\n",
              "      <td>Guayaquil</td>\n",
              "      <td>-2.1833</td>\n",
              "      <td>-79.8833</td>\n",
              "      <td>Mercado Artesanal</td>\n",
              "      <td>-2.184704</td>\n",
              "      <td>-79.880182</td>\n",
              "      <td>Arts &amp; Crafts Store</td>\n",
              "    </tr>\n",
              "  </tbody>\n",
              "</table>\n",
              "</div>"
            ],
            "text/plain": [
              "        City  City Latitude  ...  Bussiness Longitude   Bussiness Category\n",
              "0  Guayaquil        -2.1833  ...           -79.883522            Locksmith\n",
              "1  Guayaquil        -2.1833  ...           -79.883747             Pharmacy\n",
              "2  Guayaquil        -2.1833  ...           -79.883214   Seafood Restaurant\n",
              "3  Guayaquil        -2.1833  ...           -79.883613  Monument / Landmark\n",
              "4  Guayaquil        -2.1833  ...           -79.880182  Arts & Crafts Store\n",
              "\n",
              "[5 rows x 7 columns]"
            ]
          },
          "metadata": {
            "tags": []
          },
          "execution_count": 15
        }
      ]
    },
    {
      "cell_type": "code",
      "metadata": {
        "colab": {
          "base_uri": "https://localhost:8080/",
          "height": 1000
        },
        "id": "MUsNuwSffEGg",
        "outputId": "01c0bd7e-5b19-4c56-ceff-c2275a69da2f"
      },
      "source": [
        "data_cue = ec_data[ec_data['City']=='Cuenca']\n",
        "data_cue"
      ],
      "execution_count": 21,
      "outputs": [
        {
          "output_type": "execute_result",
          "data": {
            "text/html": [
              "<div>\n",
              "<style scoped>\n",
              "    .dataframe tbody tr th:only-of-type {\n",
              "        vertical-align: middle;\n",
              "    }\n",
              "\n",
              "    .dataframe tbody tr th {\n",
              "        vertical-align: top;\n",
              "    }\n",
              "\n",
              "    .dataframe thead th {\n",
              "        text-align: right;\n",
              "    }\n",
              "</style>\n",
              "<table border=\"1\" class=\"dataframe\">\n",
              "  <thead>\n",
              "    <tr style=\"text-align: right;\">\n",
              "      <th></th>\n",
              "      <th>City</th>\n",
              "      <th>City Latitude</th>\n",
              "      <th>City Longitude</th>\n",
              "      <th>Bussiness</th>\n",
              "      <th>Bussiness Latitude</th>\n",
              "      <th>Bussiness Longitude</th>\n",
              "      <th>Bussiness Category</th>\n",
              "    </tr>\n",
              "  </thead>\n",
              "  <tbody>\n",
              "    <tr>\n",
              "      <th>52</th>\n",
              "      <td>Cuenca</td>\n",
              "      <td>-2.8974</td>\n",
              "      <td>-79.0045</td>\n",
              "      <td>Parque Calderón</td>\n",
              "      <td>-2.897566</td>\n",
              "      <td>-79.004757</td>\n",
              "      <td>Park</td>\n",
              "    </tr>\n",
              "    <tr>\n",
              "      <th>53</th>\n",
              "      <td>Cuenca</td>\n",
              "      <td>-2.8974</td>\n",
              "      <td>-79.0045</td>\n",
              "      <td>Hotel Santa Lucia</td>\n",
              "      <td>-2.897900</td>\n",
              "      <td>-79.002874</td>\n",
              "      <td>Hotel</td>\n",
              "    </tr>\n",
              "    <tr>\n",
              "      <th>54</th>\n",
              "      <td>Cuenca</td>\n",
              "      <td>-2.8974</td>\n",
              "      <td>-79.0045</td>\n",
              "      <td>Sucré Salé Café</td>\n",
              "      <td>-2.897371</td>\n",
              "      <td>-79.004212</td>\n",
              "      <td>Café</td>\n",
              "    </tr>\n",
              "    <tr>\n",
              "      <th>55</th>\n",
              "      <td>Cuenca</td>\n",
              "      <td>-2.8974</td>\n",
              "      <td>-79.0045</td>\n",
              "      <td>Trattoria Novecento</td>\n",
              "      <td>-2.897890</td>\n",
              "      <td>-79.002783</td>\n",
              "      <td>Italian Restaurant</td>\n",
              "    </tr>\n",
              "    <tr>\n",
              "      <th>56</th>\n",
              "      <td>Cuenca</td>\n",
              "      <td>-2.8974</td>\n",
              "      <td>-79.0045</td>\n",
              "      <td>Bauhouse Hostel &amp; Bar</td>\n",
              "      <td>-2.895530</td>\n",
              "      <td>-79.004594</td>\n",
              "      <td>Bar</td>\n",
              "    </tr>\n",
              "    <tr>\n",
              "      <th>57</th>\n",
              "      <td>Cuenca</td>\n",
              "      <td>-2.8974</td>\n",
              "      <td>-79.0045</td>\n",
              "      <td>Centro Historico</td>\n",
              "      <td>-2.896612</td>\n",
              "      <td>-79.007953</td>\n",
              "      <td>Historic Site</td>\n",
              "    </tr>\n",
              "    <tr>\n",
              "      <th>58</th>\n",
              "      <td>Cuenca</td>\n",
              "      <td>-2.8974</td>\n",
              "      <td>-79.0045</td>\n",
              "      <td>Sabaneta</td>\n",
              "      <td>-2.898535</td>\n",
              "      <td>-79.003311</td>\n",
              "      <td>Gastropub</td>\n",
              "    </tr>\n",
              "    <tr>\n",
              "      <th>59</th>\n",
              "      <td>Cuenca</td>\n",
              "      <td>-2.8974</td>\n",
              "      <td>-79.0045</td>\n",
              "      <td>Tiestos Cafe Restaurante</td>\n",
              "      <td>-2.900058</td>\n",
              "      <td>-79.003521</td>\n",
              "      <td>Steakhouse</td>\n",
              "    </tr>\n",
              "    <tr>\n",
              "      <th>60</th>\n",
              "      <td>Cuenca</td>\n",
              "      <td>-2.8974</td>\n",
              "      <td>-79.0045</td>\n",
              "      <td>Mediterraneo</td>\n",
              "      <td>-2.901106</td>\n",
              "      <td>-79.004264</td>\n",
              "      <td>Italian Restaurant</td>\n",
              "    </tr>\n",
              "    <tr>\n",
              "      <th>61</th>\n",
              "      <td>Cuenca</td>\n",
              "      <td>-2.8974</td>\n",
              "      <td>-79.0045</td>\n",
              "      <td>A Pedir De Boca</td>\n",
              "      <td>-2.900564</td>\n",
              "      <td>-79.005420</td>\n",
              "      <td>Restaurant</td>\n",
              "    </tr>\n",
              "    <tr>\n",
              "      <th>62</th>\n",
              "      <td>Cuenca</td>\n",
              "      <td>-2.8974</td>\n",
              "      <td>-79.0045</td>\n",
              "      <td>Jazz Society Café</td>\n",
              "      <td>-2.900053</td>\n",
              "      <td>-79.004552</td>\n",
              "      <td>Bar</td>\n",
              "    </tr>\n",
              "    <tr>\n",
              "      <th>63</th>\n",
              "      <td>Cuenca</td>\n",
              "      <td>-2.8974</td>\n",
              "      <td>-79.0045</td>\n",
              "      <td>Café Austria</td>\n",
              "      <td>-2.897694</td>\n",
              "      <td>-79.001984</td>\n",
              "      <td>Austrian Restaurant</td>\n",
              "    </tr>\n",
              "    <tr>\n",
              "      <th>64</th>\n",
              "      <td>Cuenca</td>\n",
              "      <td>-2.8974</td>\n",
              "      <td>-79.0045</td>\n",
              "      <td>Simon 7-84</td>\n",
              "      <td>-2.896955</td>\n",
              "      <td>-79.003779</td>\n",
              "      <td>Theme Restaurant</td>\n",
              "    </tr>\n",
              "    <tr>\n",
              "      <th>65</th>\n",
              "      <td>Cuenca</td>\n",
              "      <td>-2.8974</td>\n",
              "      <td>-79.0045</td>\n",
              "      <td>El Mercado Cuenca</td>\n",
              "      <td>-2.901356</td>\n",
              "      <td>-79.005226</td>\n",
              "      <td>Comfort Food Restaurant</td>\n",
              "    </tr>\n",
              "    <tr>\n",
              "      <th>66</th>\n",
              "      <td>Cuenca</td>\n",
              "      <td>-2.8974</td>\n",
              "      <td>-79.0045</td>\n",
              "      <td>Café Del Parque</td>\n",
              "      <td>-2.896634</td>\n",
              "      <td>-79.004741</td>\n",
              "      <td>Breakfast Spot</td>\n",
              "    </tr>\n",
              "    <tr>\n",
              "      <th>67</th>\n",
              "      <td>Cuenca</td>\n",
              "      <td>-2.8974</td>\n",
              "      <td>-79.0045</td>\n",
              "      <td>Guajibamba</td>\n",
              "      <td>-2.893709</td>\n",
              "      <td>-79.003156</td>\n",
              "      <td>Latin American Restaurant</td>\n",
              "    </tr>\n",
              "    <tr>\n",
              "      <th>68</th>\n",
              "      <td>Cuenca</td>\n",
              "      <td>-2.8974</td>\n",
              "      <td>-79.0045</td>\n",
              "      <td>Fabianos</td>\n",
              "      <td>-2.899702</td>\n",
              "      <td>-79.001052</td>\n",
              "      <td>Pizza Place</td>\n",
              "    </tr>\n",
              "    <tr>\n",
              "      <th>69</th>\n",
              "      <td>Cuenca</td>\n",
              "      <td>-2.8974</td>\n",
              "      <td>-79.0045</td>\n",
              "      <td>Hotel Carvallo</td>\n",
              "      <td>-2.895414</td>\n",
              "      <td>-79.004961</td>\n",
              "      <td>Hotel</td>\n",
              "    </tr>\n",
              "    <tr>\n",
              "      <th>70</th>\n",
              "      <td>Cuenca</td>\n",
              "      <td>-2.8974</td>\n",
              "      <td>-79.0045</td>\n",
              "      <td>Museo del Sombrero de Paja Toquilla</td>\n",
              "      <td>-2.900513</td>\n",
              "      <td>-79.007060</td>\n",
              "      <td>Arts &amp; Crafts Store</td>\n",
              "    </tr>\n",
              "    <tr>\n",
              "      <th>71</th>\n",
              "      <td>Cuenca</td>\n",
              "      <td>-2.8974</td>\n",
              "      <td>-79.0045</td>\n",
              "      <td>Tutto Freddo</td>\n",
              "      <td>-2.897095</td>\n",
              "      <td>-79.004574</td>\n",
              "      <td>Ice Cream Shop</td>\n",
              "    </tr>\n",
              "    <tr>\n",
              "      <th>72</th>\n",
              "      <td>Cuenca</td>\n",
              "      <td>-2.8974</td>\n",
              "      <td>-79.0045</td>\n",
              "      <td>Hot Dog del Tropical</td>\n",
              "      <td>-2.894521</td>\n",
              "      <td>-79.005747</td>\n",
              "      <td>Hot Dog Joint</td>\n",
              "    </tr>\n",
              "    <tr>\n",
              "      <th>73</th>\n",
              "      <td>Cuenca</td>\n",
              "      <td>-2.8974</td>\n",
              "      <td>-79.0045</td>\n",
              "      <td>hostal | bar yakumama</td>\n",
              "      <td>-2.900444</td>\n",
              "      <td>-79.004488</td>\n",
              "      <td>Hotel</td>\n",
              "    </tr>\n",
              "    <tr>\n",
              "      <th>74</th>\n",
              "      <td>Cuenca</td>\n",
              "      <td>-2.8974</td>\n",
              "      <td>-79.0045</td>\n",
              "      <td>La Cigale</td>\n",
              "      <td>-2.900948</td>\n",
              "      <td>-79.004365</td>\n",
              "      <td>Hostel</td>\n",
              "    </tr>\n",
              "    <tr>\n",
              "      <th>75</th>\n",
              "      <td>Cuenca</td>\n",
              "      <td>-2.8974</td>\n",
              "      <td>-79.0045</td>\n",
              "      <td>Inka Lounge</td>\n",
              "      <td>-2.901722</td>\n",
              "      <td>-79.005304</td>\n",
              "      <td>Bar</td>\n",
              "    </tr>\n",
              "    <tr>\n",
              "      <th>76</th>\n",
              "      <td>Cuenca</td>\n",
              "      <td>-2.8974</td>\n",
              "      <td>-79.0045</td>\n",
              "      <td>Mansión Alcázar Boutique Hotel</td>\n",
              "      <td>-2.896278</td>\n",
              "      <td>-79.008378</td>\n",
              "      <td>Hotel</td>\n",
              "    </tr>\n",
              "    <tr>\n",
              "      <th>77</th>\n",
              "      <td>Cuenca</td>\n",
              "      <td>-2.8974</td>\n",
              "      <td>-79.0045</td>\n",
              "      <td>La Viña</td>\n",
              "      <td>-2.900130</td>\n",
              "      <td>-79.004437</td>\n",
              "      <td>Italian Restaurant</td>\n",
              "    </tr>\n",
              "    <tr>\n",
              "      <th>78</th>\n",
              "      <td>Cuenca</td>\n",
              "      <td>-2.8974</td>\n",
              "      <td>-79.0045</td>\n",
              "      <td>Chiplote</td>\n",
              "      <td>-2.901312</td>\n",
              "      <td>-79.004791</td>\n",
              "      <td>Bar</td>\n",
              "    </tr>\n",
              "    <tr>\n",
              "      <th>79</th>\n",
              "      <td>Cuenca</td>\n",
              "      <td>-2.8974</td>\n",
              "      <td>-79.0045</td>\n",
              "      <td>Mercado 10 de agosto</td>\n",
              "      <td>-2.899543</td>\n",
              "      <td>-79.007708</td>\n",
              "      <td>Flea Market</td>\n",
              "    </tr>\n",
              "    <tr>\n",
              "      <th>80</th>\n",
              "      <td>Cuenca</td>\n",
              "      <td>-2.8974</td>\n",
              "      <td>-79.0045</td>\n",
              "      <td>Centro de la ciudad de Cuenca</td>\n",
              "      <td>-2.901518</td>\n",
              "      <td>-79.003968</td>\n",
              "      <td>Park</td>\n",
              "    </tr>\n",
              "    <tr>\n",
              "      <th>81</th>\n",
              "      <td>Cuenca</td>\n",
              "      <td>-2.8974</td>\n",
              "      <td>-79.0045</td>\n",
              "      <td>Taj Mahal</td>\n",
              "      <td>-2.900905</td>\n",
              "      <td>-79.005585</td>\n",
              "      <td>Indian Restaurant</td>\n",
              "    </tr>\n",
              "    <tr>\n",
              "      <th>82</th>\n",
              "      <td>Cuenca</td>\n",
              "      <td>-2.8974</td>\n",
              "      <td>-79.0045</td>\n",
              "      <td>Runway_Lounge</td>\n",
              "      <td>-2.901765</td>\n",
              "      <td>-79.003813</td>\n",
              "      <td>Gastropub</td>\n",
              "    </tr>\n",
              "    <tr>\n",
              "      <th>83</th>\n",
              "      <td>Cuenca</td>\n",
              "      <td>-2.8974</td>\n",
              "      <td>-79.0045</td>\n",
              "      <td>Beer factory</td>\n",
              "      <td>-2.901104</td>\n",
              "      <td>-79.004200</td>\n",
              "      <td>Brewery</td>\n",
              "    </tr>\n",
              "    <tr>\n",
              "      <th>84</th>\n",
              "      <td>Cuenca</td>\n",
              "      <td>-2.8974</td>\n",
              "      <td>-79.0045</td>\n",
              "      <td>Beerhouse</td>\n",
              "      <td>-2.901495</td>\n",
              "      <td>-79.003715</td>\n",
              "      <td>Brewery</td>\n",
              "    </tr>\n",
              "    <tr>\n",
              "      <th>85</th>\n",
              "      <td>Cuenca</td>\n",
              "      <td>-2.8974</td>\n",
              "      <td>-79.0045</td>\n",
              "      <td>El Nuevo Oro Mar Mariscos</td>\n",
              "      <td>-2.897845</td>\n",
              "      <td>-79.008844</td>\n",
              "      <td>Seafood Restaurant</td>\n",
              "    </tr>\n",
              "  </tbody>\n",
              "</table>\n",
              "</div>"
            ],
            "text/plain": [
              "      City  City Latitude  ...  Bussiness Longitude         Bussiness Category\n",
              "52  Cuenca        -2.8974  ...           -79.004757                       Park\n",
              "53  Cuenca        -2.8974  ...           -79.002874                      Hotel\n",
              "54  Cuenca        -2.8974  ...           -79.004212                       Café\n",
              "55  Cuenca        -2.8974  ...           -79.002783         Italian Restaurant\n",
              "56  Cuenca        -2.8974  ...           -79.004594                        Bar\n",
              "57  Cuenca        -2.8974  ...           -79.007953              Historic Site\n",
              "58  Cuenca        -2.8974  ...           -79.003311                  Gastropub\n",
              "59  Cuenca        -2.8974  ...           -79.003521                 Steakhouse\n",
              "60  Cuenca        -2.8974  ...           -79.004264         Italian Restaurant\n",
              "61  Cuenca        -2.8974  ...           -79.005420                 Restaurant\n",
              "62  Cuenca        -2.8974  ...           -79.004552                        Bar\n",
              "63  Cuenca        -2.8974  ...           -79.001984        Austrian Restaurant\n",
              "64  Cuenca        -2.8974  ...           -79.003779           Theme Restaurant\n",
              "65  Cuenca        -2.8974  ...           -79.005226    Comfort Food Restaurant\n",
              "66  Cuenca        -2.8974  ...           -79.004741             Breakfast Spot\n",
              "67  Cuenca        -2.8974  ...           -79.003156  Latin American Restaurant\n",
              "68  Cuenca        -2.8974  ...           -79.001052                Pizza Place\n",
              "69  Cuenca        -2.8974  ...           -79.004961                      Hotel\n",
              "70  Cuenca        -2.8974  ...           -79.007060        Arts & Crafts Store\n",
              "71  Cuenca        -2.8974  ...           -79.004574             Ice Cream Shop\n",
              "72  Cuenca        -2.8974  ...           -79.005747              Hot Dog Joint\n",
              "73  Cuenca        -2.8974  ...           -79.004488                      Hotel\n",
              "74  Cuenca        -2.8974  ...           -79.004365                     Hostel\n",
              "75  Cuenca        -2.8974  ...           -79.005304                        Bar\n",
              "76  Cuenca        -2.8974  ...           -79.008378                      Hotel\n",
              "77  Cuenca        -2.8974  ...           -79.004437         Italian Restaurant\n",
              "78  Cuenca        -2.8974  ...           -79.004791                        Bar\n",
              "79  Cuenca        -2.8974  ...           -79.007708                Flea Market\n",
              "80  Cuenca        -2.8974  ...           -79.003968                       Park\n",
              "81  Cuenca        -2.8974  ...           -79.005585          Indian Restaurant\n",
              "82  Cuenca        -2.8974  ...           -79.003813                  Gastropub\n",
              "83  Cuenca        -2.8974  ...           -79.004200                    Brewery\n",
              "84  Cuenca        -2.8974  ...           -79.003715                    Brewery\n",
              "85  Cuenca        -2.8974  ...           -79.008844         Seafood Restaurant\n",
              "\n",
              "[34 rows x 7 columns]"
            ]
          },
          "metadata": {
            "tags": []
          },
          "execution_count": 21
        }
      ]
    },
    {
      "cell_type": "markdown",
      "metadata": {
        "id": "g7UaO4uA4OlJ"
      },
      "source": [
        "Now, we need to get only the data related to food bussiness. In this context, due to the idea is to open a new bar-restaurant the selection criteria to segment the data are Bussiness Category in Steackhouse, Restaurtan and Bar. "
      ]
    },
    {
      "cell_type": "code",
      "metadata": {
        "colab": {
          "base_uri": "https://localhost:8080/",
          "height": 650
        },
        "id": "LFKXaErke9Te",
        "outputId": "47586e04-9006-4a50-a906-9a5215c042f4"
      },
      "source": [
        "data_cue_bs=data_cue['Bussiness Category'].str.contains('Steakhouse')+data_cue['Bussiness Category'].str.contains('Restaurant')+data_cue['Bussiness Category'].str.contains('Bar')\n",
        "data_cue_bs = data_cue[data_cue_bs]\n",
        "\n",
        "data_cue_bs.reset_index(drop=True,inplace=True)\n",
        "\n",
        "data_cue_bs['cluster']=[0,1,0,0,0,1,0,0,0,0,1,0,1,0,0]\n",
        "\n",
        "data_cue_bs"
      ],
      "execution_count": 59,
      "outputs": [
        {
          "output_type": "stream",
          "text": [
            "/usr/local/lib/python3.6/dist-packages/pandas/core/computation/expressions.py:204: UserWarning: evaluating in Python space because the '+' operator is not supported by numexpr for the bool dtype, use '|' instead\n",
            "  f\"evaluating in Python space because the {repr(op_str)} \"\n",
            "/usr/local/lib/python3.6/dist-packages/ipykernel_launcher.py:6: SettingWithCopyWarning: \n",
            "A value is trying to be set on a copy of a slice from a DataFrame.\n",
            "Try using .loc[row_indexer,col_indexer] = value instead\n",
            "\n",
            "See the caveats in the documentation: https://pandas.pydata.org/pandas-docs/stable/user_guide/indexing.html#returning-a-view-versus-a-copy\n",
            "  \n"
          ],
          "name": "stderr"
        },
        {
          "output_type": "execute_result",
          "data": {
            "text/html": [
              "<div>\n",
              "<style scoped>\n",
              "    .dataframe tbody tr th:only-of-type {\n",
              "        vertical-align: middle;\n",
              "    }\n",
              "\n",
              "    .dataframe tbody tr th {\n",
              "        vertical-align: top;\n",
              "    }\n",
              "\n",
              "    .dataframe thead th {\n",
              "        text-align: right;\n",
              "    }\n",
              "</style>\n",
              "<table border=\"1\" class=\"dataframe\">\n",
              "  <thead>\n",
              "    <tr style=\"text-align: right;\">\n",
              "      <th></th>\n",
              "      <th>City</th>\n",
              "      <th>City Latitude</th>\n",
              "      <th>City Longitude</th>\n",
              "      <th>Bussiness</th>\n",
              "      <th>Bussiness Latitude</th>\n",
              "      <th>Bussiness Longitude</th>\n",
              "      <th>Bussiness Category</th>\n",
              "      <th>cluster</th>\n",
              "    </tr>\n",
              "  </thead>\n",
              "  <tbody>\n",
              "    <tr>\n",
              "      <th>0</th>\n",
              "      <td>Cuenca</td>\n",
              "      <td>-2.8974</td>\n",
              "      <td>-79.0045</td>\n",
              "      <td>Trattoria Novecento</td>\n",
              "      <td>-2.897890</td>\n",
              "      <td>-79.002783</td>\n",
              "      <td>Italian Restaurant</td>\n",
              "      <td>0</td>\n",
              "    </tr>\n",
              "    <tr>\n",
              "      <th>1</th>\n",
              "      <td>Cuenca</td>\n",
              "      <td>-2.8974</td>\n",
              "      <td>-79.0045</td>\n",
              "      <td>Bauhouse Hostel &amp; Bar</td>\n",
              "      <td>-2.895530</td>\n",
              "      <td>-79.004594</td>\n",
              "      <td>Bar</td>\n",
              "      <td>1</td>\n",
              "    </tr>\n",
              "    <tr>\n",
              "      <th>2</th>\n",
              "      <td>Cuenca</td>\n",
              "      <td>-2.8974</td>\n",
              "      <td>-79.0045</td>\n",
              "      <td>Tiestos Cafe Restaurante</td>\n",
              "      <td>-2.900058</td>\n",
              "      <td>-79.003521</td>\n",
              "      <td>Steakhouse</td>\n",
              "      <td>0</td>\n",
              "    </tr>\n",
              "    <tr>\n",
              "      <th>3</th>\n",
              "      <td>Cuenca</td>\n",
              "      <td>-2.8974</td>\n",
              "      <td>-79.0045</td>\n",
              "      <td>Mediterraneo</td>\n",
              "      <td>-2.901106</td>\n",
              "      <td>-79.004264</td>\n",
              "      <td>Italian Restaurant</td>\n",
              "      <td>0</td>\n",
              "    </tr>\n",
              "    <tr>\n",
              "      <th>4</th>\n",
              "      <td>Cuenca</td>\n",
              "      <td>-2.8974</td>\n",
              "      <td>-79.0045</td>\n",
              "      <td>A Pedir De Boca</td>\n",
              "      <td>-2.900564</td>\n",
              "      <td>-79.005420</td>\n",
              "      <td>Restaurant</td>\n",
              "      <td>0</td>\n",
              "    </tr>\n",
              "    <tr>\n",
              "      <th>5</th>\n",
              "      <td>Cuenca</td>\n",
              "      <td>-2.8974</td>\n",
              "      <td>-79.0045</td>\n",
              "      <td>Jazz Society Café</td>\n",
              "      <td>-2.900053</td>\n",
              "      <td>-79.004552</td>\n",
              "      <td>Bar</td>\n",
              "      <td>1</td>\n",
              "    </tr>\n",
              "    <tr>\n",
              "      <th>6</th>\n",
              "      <td>Cuenca</td>\n",
              "      <td>-2.8974</td>\n",
              "      <td>-79.0045</td>\n",
              "      <td>Café Austria</td>\n",
              "      <td>-2.897694</td>\n",
              "      <td>-79.001984</td>\n",
              "      <td>Austrian Restaurant</td>\n",
              "      <td>0</td>\n",
              "    </tr>\n",
              "    <tr>\n",
              "      <th>7</th>\n",
              "      <td>Cuenca</td>\n",
              "      <td>-2.8974</td>\n",
              "      <td>-79.0045</td>\n",
              "      <td>Simon 7-84</td>\n",
              "      <td>-2.896955</td>\n",
              "      <td>-79.003779</td>\n",
              "      <td>Theme Restaurant</td>\n",
              "      <td>0</td>\n",
              "    </tr>\n",
              "    <tr>\n",
              "      <th>8</th>\n",
              "      <td>Cuenca</td>\n",
              "      <td>-2.8974</td>\n",
              "      <td>-79.0045</td>\n",
              "      <td>El Mercado Cuenca</td>\n",
              "      <td>-2.901356</td>\n",
              "      <td>-79.005226</td>\n",
              "      <td>Comfort Food Restaurant</td>\n",
              "      <td>0</td>\n",
              "    </tr>\n",
              "    <tr>\n",
              "      <th>9</th>\n",
              "      <td>Cuenca</td>\n",
              "      <td>-2.8974</td>\n",
              "      <td>-79.0045</td>\n",
              "      <td>Guajibamba</td>\n",
              "      <td>-2.893709</td>\n",
              "      <td>-79.003156</td>\n",
              "      <td>Latin American Restaurant</td>\n",
              "      <td>0</td>\n",
              "    </tr>\n",
              "    <tr>\n",
              "      <th>10</th>\n",
              "      <td>Cuenca</td>\n",
              "      <td>-2.8974</td>\n",
              "      <td>-79.0045</td>\n",
              "      <td>Inka Lounge</td>\n",
              "      <td>-2.901722</td>\n",
              "      <td>-79.005304</td>\n",
              "      <td>Bar</td>\n",
              "      <td>1</td>\n",
              "    </tr>\n",
              "    <tr>\n",
              "      <th>11</th>\n",
              "      <td>Cuenca</td>\n",
              "      <td>-2.8974</td>\n",
              "      <td>-79.0045</td>\n",
              "      <td>La Viña</td>\n",
              "      <td>-2.900130</td>\n",
              "      <td>-79.004437</td>\n",
              "      <td>Italian Restaurant</td>\n",
              "      <td>0</td>\n",
              "    </tr>\n",
              "    <tr>\n",
              "      <th>12</th>\n",
              "      <td>Cuenca</td>\n",
              "      <td>-2.8974</td>\n",
              "      <td>-79.0045</td>\n",
              "      <td>Chiplote</td>\n",
              "      <td>-2.901312</td>\n",
              "      <td>-79.004791</td>\n",
              "      <td>Bar</td>\n",
              "      <td>1</td>\n",
              "    </tr>\n",
              "    <tr>\n",
              "      <th>13</th>\n",
              "      <td>Cuenca</td>\n",
              "      <td>-2.8974</td>\n",
              "      <td>-79.0045</td>\n",
              "      <td>Taj Mahal</td>\n",
              "      <td>-2.900905</td>\n",
              "      <td>-79.005585</td>\n",
              "      <td>Indian Restaurant</td>\n",
              "      <td>0</td>\n",
              "    </tr>\n",
              "    <tr>\n",
              "      <th>14</th>\n",
              "      <td>Cuenca</td>\n",
              "      <td>-2.8974</td>\n",
              "      <td>-79.0045</td>\n",
              "      <td>El Nuevo Oro Mar Mariscos</td>\n",
              "      <td>-2.897845</td>\n",
              "      <td>-79.008844</td>\n",
              "      <td>Seafood Restaurant</td>\n",
              "      <td>0</td>\n",
              "    </tr>\n",
              "  </tbody>\n",
              "</table>\n",
              "</div>"
            ],
            "text/plain": [
              "      City  City Latitude  ...         Bussiness Category cluster\n",
              "0   Cuenca        -2.8974  ...         Italian Restaurant       0\n",
              "1   Cuenca        -2.8974  ...                        Bar       1\n",
              "2   Cuenca        -2.8974  ...                 Steakhouse       0\n",
              "3   Cuenca        -2.8974  ...         Italian Restaurant       0\n",
              "4   Cuenca        -2.8974  ...                 Restaurant       0\n",
              "5   Cuenca        -2.8974  ...                        Bar       1\n",
              "6   Cuenca        -2.8974  ...        Austrian Restaurant       0\n",
              "7   Cuenca        -2.8974  ...           Theme Restaurant       0\n",
              "8   Cuenca        -2.8974  ...    Comfort Food Restaurant       0\n",
              "9   Cuenca        -2.8974  ...  Latin American Restaurant       0\n",
              "10  Cuenca        -2.8974  ...                        Bar       1\n",
              "11  Cuenca        -2.8974  ...         Italian Restaurant       0\n",
              "12  Cuenca        -2.8974  ...                        Bar       1\n",
              "13  Cuenca        -2.8974  ...          Indian Restaurant       0\n",
              "14  Cuenca        -2.8974  ...         Seafood Restaurant       0\n",
              "\n",
              "[15 rows x 8 columns]"
            ]
          },
          "metadata": {
            "tags": []
          },
          "execution_count": 59
        }
      ]
    },
    {
      "cell_type": "markdown",
      "metadata": {
        "id": "qdN4MMJt5VNM"
      },
      "source": [
        "Notice that in colum Bussiness Category only exist bussiness related to the selection criteria. We can see how is the distribution of food bussiness, related to the type of Bussiness.\n",
        "\n",
        "pd. It can be notice that there is only 14 observationts that not represent the reality, but for educational purposes this fact will not be considered."
      ]
    },
    {
      "cell_type": "code",
      "metadata": {
        "colab": {
          "base_uri": "https://localhost:8080/",
          "height": 575
        },
        "id": "yBL4TkgFLEzz",
        "outputId": "2cb609a8-141a-4bcc-d3ef-d9fb24723a38"
      },
      "source": [
        "d= data_cue_bs.groupby(['Bussiness Category']).count()['City']\n",
        "\n",
        "plt.figure(figsize=[10,10])\n",
        "plt.pie(d,labels= d.index,autopct='%1.0f%%',shadow=True, startangle=90)\n",
        "plt.show()"
      ],
      "execution_count": 191,
      "outputs": [
        {
          "output_type": "display_data",
          "data": {
            "image/png": "[encoded data removed]",
            "text/plain": [
              "<Figure size 720x720 with 1 Axes>"
            ]
          },
          "metadata": {
            "tags": []
          }
        }
      ]
    },
    {
      "cell_type": "markdown",
      "metadata": {
        "id": "zw1NHef7_YMS"
      },
      "source": [
        "Now, we are going to plot the location of the down town bussiness in a map. take into account that the purple dots are refered to bars, the red ones to restaurants and the blue dot in the center shows the central park.\n"
      ]
    },
    {
      "cell_type": "code",
      "metadata": {
        "colab": {
          "base_uri": "https://localhost:8080/",
          "height": 1000
        },
        "id": "2-vEe89c_E43",
        "outputId": "5a0ee114-b1b2-4870-ec69-e9e845133a82"
      },
      "source": [
        "# create map\n",
        "map_clusters = folium.Map(location=[-2.8974, -79.0045], zoom_start=17,tiles='Stamen Terrain',)\n",
        "\n",
        "kclusters = 2\n",
        "# set color scheme for the clusters\n",
        "x = np.arange(kclusters)\n",
        "ys = [i + x + (i*x)**2 for i in range(kclusters)]\n",
        "colors_array = cm.rainbow(np.linspace(0, 1, len(ys)))\n",
        "rainbow = [colors.rgb2hex(i) for i in colors_array]\n",
        "\n",
        "# add markers to the map\n",
        "for lat, lon, poi, cluster in zip(data_cue_bs['Bussiness Latitude'], data_cue_bs['Bussiness Longitude'], data_cue_bs['City'], data_cue_bs['cluster']):\n",
        "    label = folium.Popup(str(poi) + ' Cluster ' + str(cluster), parse_html=True)\n",
        "    folium.CircleMarker(\n",
        "        [lat, lon],\n",
        "        radius=12,\n",
        "        popup=label,\n",
        "        color= rainbow[cluster-1],\n",
        "        fill=True,\n",
        "        fill_color= rainbow[cluster-1],\n",
        "        fill_opacity=0.2).add_to(map_clusters)\n",
        "        \n",
        "# Add central park mark\n",
        "\n",
        "folium.CircleMarker(\n",
        "        [-2.8974, -79.0045],\n",
        "        radius=12,\n",
        "        color= 'blue',\n",
        "        fill=True,\n",
        "        fill_color= 'blue',\n",
        "        fill_opacity=0.2).add_to(map_clusters)\n",
        "\n",
        "map_clusters"
      ],
      "execution_count": 158,
      "outputs": [
        {
          "output_type": "execute_result",
          "data": {
            "text/html": [
              "<div style=\"width:100%;\"><div style=\"position:relative;width:100%;height:0;padding-bottom:60%;\"><span style=\"color:#565656\">Make this Notebook Trusted to load map: File -> Trust Notebook</span><iframe src=\"about:blank\" style=\"position:absolute;width:100%;height:100%;left:0;top:0;border:none !important;\" data-html=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 onload=\"this.contentDocument.open();this.contentDocument.write(atob(this.getAttribute('data-html')));this.contentDocument.close();\" allowfullscreen webkitallowfullscreen mozallowfullscreen></iframe></div></div>"
            ],
            "text/plain": [
              "<folium.folium.Map at 0x7f96cd3f3518>"
            ]
          },
          "metadata": {
            "tags": []
          },
          "execution_count": 158
        }
      ]
    },
    {
      "cell_type": "markdown",
      "metadata": {
        "id": "rzVNTrWyIfK2"
      },
      "source": [
        "It can be noticed that food business are grouped in the south of downtown and also, in the west there are none food business ( even 100 meters near to the central park). \n",
        "In order to better observe this fact, below, we are going to graph areas in red where the businesses are located and in green where there are no businesses."
      ]
    },
    {
      "cell_type": "code",
      "metadata": {
        "colab": {
          "base_uri": "https://localhost:8080/",
          "height": 1000
        },
        "id": "wxwyibar6Ifu",
        "outputId": "1abd3507-56dd-4eb7-b7fa-8f8334d96ad2"
      },
      "source": [
        "folium.Polygon(\n",
        "    locations=list(([-2.901722,\t-79.005304],[-2.897845,\t-79.008844],[-2.900058,\t-79.003521])),\n",
        "    popup=\"Path\",\n",
        "    tooltip = \"Path\",\n",
        "    color=\"light red\",\n",
        "    fill_color=\"red\"\n",
        ").add_to(map_clusters)\n",
        "\n",
        "\n",
        "folium.Polygon(\n",
        "    locations=list(([-2.893709,\t-79.003156],[-2.895530, -79.004594\t],[-2.8974, -79.0045],[-2.897890,-79.002783],[-2.897694,\t-79.001984])),\n",
        "    popup=\"Path\",\n",
        "    tooltip = \"Path\",\n",
        "    color=\"light ed\",\n",
        "    fill_color=\"red\"\n",
        ").add_to(map_clusters)\n",
        "\n",
        "\n",
        "\n",
        "folium.Polygon(\n",
        "    locations=list(([-2.895530,-79.004594],[-2.897845,-79.008844],[-2.8974, -79.0045])),\n",
        "    popup=\"Path\",\n",
        "    tooltip = \"Path\",\n",
        "    color=\"light green\",\n",
        "    fill_color=\"green\"\n",
        ").add_to(map_clusters)\n",
        "\n",
        "folium.Polygon(\n",
        "    locations=list(([-2.897845,-79.008844],[-2.8974, -79.0045],[-2.897890,-79.002783],[-2.900058,\t-79.003521])),\n",
        "    popup=\"Path\",\n",
        "    tooltip = \"Path\",\n",
        "    color=\"light green\",\n",
        "    fill_color=\"green\"\n",
        ").add_to(map_clusters)\n",
        "\n",
        "\n",
        "map_clusters"
      ],
      "execution_count": 159,
      "outputs": [
        {
          "output_type": "execute_result",
          "data": {
            "text/html": [
              "<div style=\"width:100%;\"><div style=\"position:relative;width:100%;height:0;padding-bottom:60%;\"><span style=\"color:#565656\">Make this Notebook Trusted to load map: File -> Trust Notebook</span><iframe src=\"about:blank\" style=\"position:absolute;width:100%;height:100%;left:0;top:0;border:none !important;\" data-html=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 onload=\"this.contentDocument.open();this.contentDocument.write(atob(this.getAttribute('data-html')));this.contentDocument.close();\" allowfullscreen webkitallowfullscreen mozallowfullscreen></iframe></div></div>"
            ],
            "text/plain": [
              "<folium.folium.Map at 0x7f96cd3f3518>"
            ]
          },
          "metadata": {
            "tags": []
          },
          "execution_count": 159
        }
      ]
    }
  ]
}